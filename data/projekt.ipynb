{
 "cells": [
  {
   "cell_type": "markdown",
   "metadata": {},
   "source": [
    "# PROJEKT"
   ]
  },
  {
   "cell_type": "markdown",
   "metadata": {},
   "source": [
    "## Bludiště"
   ]
  },
  {
   "cell_type": "code",
   "execution_count": 1019,
   "metadata": {},
   "outputs": [],
   "source": [
    "import numpy as np\n",
    "import csv\n",
    "import matplotlib.pyplot as plt\n",
    "from matplotlib.colors import ListedColormap\n",
    "from collections import deque\n",
    "import random"
   ]
  },
  {
   "cell_type": "code",
   "execution_count": 1020,
   "metadata": {},
   "outputs": [],
   "source": [
    "def generovani_bludiste_sablona(matice_bludiste):\n",
    "    radky, sloupce = matice_bludiste.shape\n",
    "    start = (0, 0)\n",
    "    konec = (radky - 1, sloupce - 1)\n",
    "\n",
    "    # Nyní přidáme náhodné překážky\n",
    "    for i in range(radky):\n",
    "        for j in range(sloupce):\n",
    "            if matice_bludiste[i, j] == 0:\n",
    "                matice_bludiste[i, j] = 1\n",
    "            if random.random() < 0.3:\n",
    "                matice_bludiste[i, j] = 1\n",
    "            else:\n",
    "                matice_bludiste[i, j] = 0\n",
    "    \n",
    "    # Vytvoříme průchozí cestu od startu k cíli            \n",
    "    aktualni = start\n",
    "    matice_bludiste[aktualni] = 0\n",
    "\n",
    "    while aktualni != konec:\n",
    "        sousedi = []\n",
    "        if aktualni[0] + 1 < radky:\n",
    "            sousedi.append((aktualni[0] + 1, aktualni[1]))\n",
    "        if aktualni[1] + 1 < sloupce:\n",
    "            sousedi.append((aktualni[0], aktualni[1] + 1))\n",
    "        \n",
    "        dalsi = random.choice(sousedi)\n",
    "        matice_bludiste[dalsi] = 0\n",
    "        aktualni = dalsi\n",
    "    \n",
    "    # Ujistíme se, že start a end jsou průchozí\n",
    "    matice_bludiste[start] = 0\n",
    "    matice_bludiste[konec] = 0\n",
    "    \n",
    "    return matice_bludiste"
   ]
  },
  {
   "cell_type": "code",
   "execution_count": 1021,
   "metadata": {},
   "outputs": [],
   "source": [
    "def generovani_bludiste(radky, sloupce):\n",
    "    bludiste = np.ones((radky, sloupce), dtype=int)  # Začínáme s neprůchozím bludištěm (vše 1)\n",
    "    start = (0, 0)\n",
    "    konec = (radky - 1, sloupce - 1)\n",
    "    \n",
    "    # Vytvoříme průchozí cestu od startu k cíli\n",
    "    aktualni = start\n",
    "    bludiste[aktualni] = 0\n",
    "\n",
    "    while aktualni != konec:\n",
    "        sousedi = []\n",
    "        if aktualni[0] + 1 < radky:\n",
    "            sousedi.append((aktualni[0] + 1, aktualni[1]))\n",
    "        if aktualni[1] + 1 < sloupce:\n",
    "            sousedi.append((aktualni[0], aktualni[1] + 1))\n",
    "        \n",
    "        dalsi = random.choice(sousedi)\n",
    "        bludiste[dalsi] = 0\n",
    "        aktualni = dalsi\n",
    "\n",
    "    # Nyní přidáme náhodné překážky, zachováme však průchozí cestu\n",
    "    for i in range(radky):\n",
    "        for j in range(sloupce):\n",
    "            if bludiste[i, j] == 0:\n",
    "                continue\n",
    "            if random.random() < 0.3:\n",
    "                bludiste[i, j] = 1\n",
    "            else:\n",
    "                bludiste[i, j] = 0\n",
    "    \n",
    "    # Ujistíme se, že start a end jsou průchozí\n",
    "    bludiste[start] = 0\n",
    "    bludiste[konec] = 0\n",
    "    \n",
    "    return bludiste"
   ]
  },
  {
   "cell_type": "code",
   "execution_count": 1022,
   "metadata": {},
   "outputs": [],
   "source": [
    "def nacitani_csv(nazev):\n",
    "    with open(nazev, 'r') as csvsoubor:\n",
    "        soubor = csv.reader(csvsoubor)\n",
    "        matice_bludiste = []\n",
    "        for radek in soubor:\n",
    "            matice_bludiste.append([1 if cell == '1' else 0 for cell in radek])\n",
    "    return np.array(matice_bludiste)"
   ]
  },
  {
   "cell_type": "code",
   "execution_count": 1023,
   "metadata": {},
   "outputs": [],
   "source": [
    "def incidencni_matice(matice_bludiste):\n",
    "    radky, sloupce = matice_bludiste.shape\n",
    "    vrcholy = []\n",
    "    hrany = []\n",
    "\n",
    "    # Najít všechny průchozí vrcholy\n",
    "    for i in range(radky):\n",
    "        for j in range(sloupce):\n",
    "            if matice_bludiste[i, j] == 0:  # 0 znamená průchozí buňka\n",
    "                vrcholy.append((i, j))\n",
    "                # Přidat hrany pro sousední vrcholy\n",
    "                if i < radky - 1 and matice_bludiste[i + 1, j] == 0:  # Dolní soused\n",
    "                    hrany.append(((i, j), (i + 1, j)))\n",
    "                if j < sloupce - 1 and matice_bludiste[i, j + 1] == 0:  # Pravý soused\n",
    "                    hrany.append(((i, j), (i, j + 1)))\n",
    "\n",
    "    vrchol_idx = {vrchol: idx for idx, vrchol in enumerate(vrcholy)}\n",
    "    incidencni_matice = np.zeros((len(vrcholy), len(hrany)), dtype=int)\n",
    "\n",
    "    for hrana_idx, (v1, v2) in enumerate(hrany):\n",
    "        incidencni_matice[vrchol_idx[v1], hrana_idx] = 1\n",
    "        incidencni_matice[vrchol_idx[v2], hrana_idx] = 1\n",
    "\n",
    "    return incidencni_matice, vrcholy, vrchol_idx "
   ]
  },
  {
   "cell_type": "code",
   "execution_count": 1024,
   "metadata": {},
   "outputs": [],
   "source": [
    "def bfs_nejkratsi_cesta(incidencni_matice, vrcholy, vrcholy_idx, start, konec):\n",
    "    pocet_vrcholu = incidencni_matice.shape[0]\n",
    "    hrany_pocet = incidencni_matice.shape[1]\n",
    "    start_idx = vrcholy_idx[start]\n",
    "    konec_idx = vrcholy_idx[konec]\n",
    "    \n",
    "    queue = deque([start_idx])\n",
    "    vzdalenosti = {start_idx: [start]}\n",
    "    navstiveno = set()\n",
    "    navstiveno.add(start_idx)\n",
    "    \n",
    "    while queue:\n",
    "        aktualni_idx = queue.popleft()\n",
    "        if aktualni_idx == konec_idx:\n",
    "            return vzdalenosti[aktualni_idx]\n",
    "        \n",
    "        for hrana_idx in range(hrany_pocet):\n",
    "            if incidencni_matice[aktualni_idx, hrana_idx] == 1:\n",
    "                for vrchol_idx in range(pocet_vrcholu):\n",
    "                    if vrchol_idx != aktualni_idx and incidencni_matice[vrchol_idx, hrana_idx] == 1:\n",
    "                        if vrchol_idx not in navstiveno:\n",
    "                            navstiveno.add(vrchol_idx)\n",
    "                            queue.append(vrchol_idx)\n",
    "                            vzdalenosti[vrchol_idx] = vzdalenosti[aktualni_idx] + [vrcholy[vrchol_idx]]\n",
    "    \n",
    "    return None"
   ]
  },
  {
   "cell_type": "code",
   "execution_count": 1025,
   "metadata": {},
   "outputs": [],
   "source": [
    "def mark_path_in_maze(matice_bludiste, cesta):\n",
    "    for (i, j) in cesta:\n",
    "        matice_bludiste[i, j] = 2\n",
    "    return matice_bludiste"
   ]
  },
  {
   "cell_type": "code",
   "execution_count": 1026,
   "metadata": {},
   "outputs": [],
   "source": [
    "def vykresleni_grafu(matice_bludiste):\n",
    "    cmap = ListedColormap(['white', 'black', 'red'])\n",
    "    \n",
    "    fig = plt.figure(figsize=(5, 5))\n",
    "    plt.imshow(matice_bludiste, cmap=cmap, interpolation='nearest')\n",
    "    plt.show()"
   ]
  },
  {
   "cell_type": "code",
   "execution_count": 1027,
   "metadata": {},
   "outputs": [],
   "source": [
    "empty = np.zeros((20, 20), dtype = int)"
   ]
  },
  {
   "cell_type": "code",
   "execution_count": 1028,
   "metadata": {},
   "outputs": [],
   "source": [
    "slalom = np.ones((20, 20), dtype = int)\n",
    "slalom[0, :] = 0\n",
    "slalom[0:6, 19] = 0\n",
    "slalom[5, :] = 0\n",
    "slalom[5:16, 0] = 0\n",
    "slalom[15, :] = 0\n",
    "slalom[15:20, 19] = 0"
   ]
  },
  {
   "cell_type": "code",
   "execution_count": 1029,
   "metadata": {},
   "outputs": [],
   "source": [
    "nazev = 'maze_5.csv'\n",
    "matice_bludiste = nacitani_csv(nazev)\n",
    "#matice_bludiste = generovani_bludiste_sablona(empty)\n",
    "#matice_bludiste = generovani_bludiste(20, 20)\n"
   ]
  },
  {
   "cell_type": "code",
   "execution_count": 1030,
   "metadata": {},
   "outputs": [
    {
     "data": {
      "image/png": "[encoded data removed]",
      "text/plain": [
       "<Figure size 500x500 with 1 Axes>"
      ]
     },
     "metadata": {},
     "output_type": "display_data"
    }
   ],
   "source": [
    "m, n = matice_bludiste.shape\n",
    "start = (0, 0)\n",
    "konec = (m - 1, n - 1)\n",
    "\n",
    "incidencni_matice, vrcholy, vrchol_idx = incidencni_matice(matice_bludiste)\n",
    "\n",
    "cesta = bfs_nejkratsi_cesta(incidencni_matice, vrcholy, vrchol_idx, start, konec)\n",
    "\n",
    "vysledna_cesta = mark_path_in_maze(matice_bludiste, cesta)\n",
    "vykresleni_grafu(vysledna_cesta)"
   ]
  }
 ],
 "metadata": {
  "kernelspec": {
   "display_name": "Python 3",
   "language": "python",
   "name": "python3"
  },
  "language_info": {
   "codemirror_mode": {
    "name": "ipython",
    "version": 3
   },
   "file_extension": ".py",
   "mimetype": "text/x-python",
   "name": "python",
   "nbconvert_exporter": "python",
   "pygments_lexer": "ipython3",
   "version": "3.10.12"
  }
 },
 "nbformat": 4,
 "nbformat_minor": 2
}
